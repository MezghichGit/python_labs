{
  "nbformat": 4,
  "nbformat_minor": 0,
  "metadata": {
    "colab": {
      "provenance": [],
      "authorship_tag": "ABX9TyPiSSuCXeNs459fsggyDGT4",
      "include_colab_link": true
    },
    "kernelspec": {
      "name": "python3",
      "display_name": "Python 3"
    },
    "language_info": {
      "name": "python"
    }
  },
  "cells": [
    {
      "cell_type": "markdown",
      "metadata": {
        "id": "view-in-github",
        "colab_type": "text"
      },
      "source": [
        "<a href=\"https://colab.research.google.com/github/MezghichGit/python_labs/blob/master/TP3_RF_Invariants_Complets.ipynb\" target=\"_parent\"><img src=\"https://colab.research.google.com/assets/colab-badge.svg\" alt=\"Open In Colab\"/></a>"
      ]
    },
    {
      "cell_type": "markdown",
      "source": [
        "# **Reconnaissance de formes par des invariants de Fourier-Complets**\n",
        "\n",
        "\n",
        "\n",
        "\n"
      ],
      "metadata": {
        "id": "Rj4IdRw11MuW"
      }
    },
    {
      "cell_type": "markdown",
      "source": [
        "**Plan**\n",
        "\n",
        "1.   Extraction de contours\n",
        "\n",
        "1.1   Seuillage\n",
        "1.2   Méthode de croissance de région\n",
        "1.3  Snake\n",
        "\n",
        "2.   Reparamétrage par abscisse curviligne\n",
        "3.   Rappel sur les coefficients de Fourier\n",
        "4.   Les invariants complets\n",
        "\n",
        "4.1   Invariants de Crimmins\n",
        "4.2   Reconstruction de forme\n",
        "4.3   Génération de formes intermédiaires\n",
        "\n",
        "5.Classification (TP RF sur la Base MPEG 7)\n"
      ],
      "metadata": {
        "id": "Dj264Cfv1mx9"
      }
    },
    {
      "cell_type": "code",
      "source": [],
      "metadata": {
        "id": "CGxIpFqu1paT"
      },
      "execution_count": null,
      "outputs": []
    }
  ]
}